{
 "cells": [
  {
   "cell_type": "markdown",
   "id": "bbab9141",
   "metadata": {
    "papermill": {
     "duration": 0.003021,
     "end_time": "2025-08-12T02:52:37.690676",
     "exception": false,
     "start_time": "2025-08-12T02:52:37.687655",
     "status": "completed"
    },
    "tags": []
   },
   "source": [
    "# API Ingest → AWS S3 (BLS/DataUSA)\n",
    "This notebook automates the retrieval of BLS productivity data and stores it in Amazon S3.  \n",
    "It uses the BLS Public API with secure key management and includes duplicate protection to avoid re-uploading unchanged files.\n",
    "\n",
    "### What's Covered\n",
    "- **Automated sync** from data api source to S3.\n",
    "- **No hardcoded file names** – dynamically scrapes the BLS file list.\n",
    "- **403 error handling** – uses a valid User-Agent to comply with BLS access policy.\n",
    "- **Cloud-based execution** – runs in Kaggle with secure secret management.\n",
    "- **Secrets used** – AWS_ACCESS_KEY_ID, AWS_SECRET_ACCESS_KEY, AWS_REGION, BUCKET_NAME, BLS_API_KEY.\n",
    "- **Duplicate protection** – checks content hashes before uploading.\n",
    "- **Optional scheduling** – can be run daily or weekly with no manual effort.\n",
    "\n",
    "### How It Works\n",
    "1. Fetch the current list of files from the BLS public directory.\n",
    "2. Download each file and compare its hash to the version in S3.\n",
    "3. Upload new or changed files to the configured S3 bucket.\n",
    "4. Skip unchanged files to save bandwidth and storage."
   ]
  },
  {
   "cell_type": "markdown",
   "id": "5787e3ee",
   "metadata": {
    "papermill": {
     "duration": 0.00226,
     "end_time": "2025-08-12T02:52:37.695857",
     "exception": false,
     "start_time": "2025-08-12T02:52:37.693597",
     "status": "completed"
    },
    "tags": []
   },
   "source": [
    "## Connect to AWS S3\n",
    "This notebook requires the following Python packages:  \n",
    "- boto3  \n",
    "- requests  \n",
    "- hashlib  \n",
    "- kaggle_secrets: AWS_ACCESS_KEY_ID, AWS_SECRET_ACCESS_KEY, AWS_REGION, BUCKET_NAME, BLS_API_KEY"
   ]
  },
  {
   "cell_type": "code",
   "execution_count": 1,
   "id": "94cc0631",
   "metadata": {
    "execution": {
     "iopub.execute_input": "2025-08-12T02:52:37.702785Z",
     "iopub.status.busy": "2025-08-12T02:52:37.701708Z",
     "iopub.status.idle": "2025-08-12T02:52:39.918718Z",
     "shell.execute_reply": "2025-08-12T02:52:39.917833Z"
    },
    "papermill": {
     "duration": 2.222227,
     "end_time": "2025-08-12T02:52:39.920538",
     "exception": false,
     "start_time": "2025-08-12T02:52:37.698311",
     "status": "completed"
    },
    "tags": []
   },
   "outputs": [
    {
     "name": "stdout",
     "output_type": "stream",
     "text": [
      "S3 connection successful. Bucket contains:  6\n"
     ]
    }
   ],
   "source": [
    "import boto3\n",
    "import requests\n",
    "import hashlib\n",
    "import json\n",
    "from kaggle_secrets import UserSecretsClient\n",
    "\n",
    "# Load AWS secrets\n",
    "secrets = UserSecretsClient()\n",
    "API_KEY = secrets.get_secret(\"BLS_API_KEY\")\n",
    "AWS_ACCESS_KEY_ID = secrets.get_secret(\"AWS_ACCESS_KEY_ID\")\n",
    "AWS_SECRET_ACCESS_KEY = secrets.get_secret(\"AWS_SECRET_ACCESS_KEY\")\n",
    "AWS_REGION = secrets.get_secret(\"AWS_REGION\")\n",
    "BUCKET_NAME = secrets.get_secret(\"BUCKET_NAME\")\n",
    "\n",
    "# Setup AWS session and S3\n",
    "session = boto3.Session(\n",
    "    aws_access_key_id=AWS_ACCESS_KEY_ID,\n",
    "    aws_secret_access_key=AWS_SECRET_ACCESS_KEY,\n",
    "    region_name=AWS_REGION\n",
    ")\n",
    "s3 = session.client(\"s3\")\n",
    "\n",
    "# Test connection WITHOUT revealing keys\n",
    "try:\n",
    "    response = s3.list_objects_v2(Bucket=BUCKET_NAME)\n",
    "    num_files = response.get('KeyCount', 0)\n",
    "    print(\"S3 connection successful. Bucket contains: \", num_files)\n",
    "except Exception as e:\n",
    "    print(\"S3 connection failed: \", e)"
   ]
  },
  {
   "cell_type": "markdown",
   "id": "d32c3e91",
   "metadata": {
    "papermill": {
     "duration": 0.002351,
     "end_time": "2025-08-12T02:52:39.925673",
     "exception": false,
     "start_time": "2025-08-12T02:52:39.923322",
     "status": "completed"
    },
    "tags": []
   },
   "source": [
    "## Fetch BLS Data via API Key\n",
    "- Authenticate with a registered BLS API key to comply with access policies.  \n",
    "- Retrieve U.S. inflation data programmatically through the BLS Public API.  "
   ]
  },
  {
   "cell_type": "code",
   "execution_count": 2,
   "id": "ec7903ca",
   "metadata": {
    "execution": {
     "iopub.execute_input": "2025-08-12T02:52:39.932111Z",
     "iopub.status.busy": "2025-08-12T02:52:39.931707Z",
     "iopub.status.idle": "2025-08-12T02:52:40.813781Z",
     "shell.execute_reply": "2025-08-12T02:52:40.812789Z"
    },
    "papermill": {
     "duration": 0.887387,
     "end_time": "2025-08-12T02:52:40.815656",
     "exception": false,
     "start_time": "2025-08-12T02:52:39.928269",
     "status": "completed"
    },
    "tags": []
   },
   "outputs": [
    {
     "name": "stdout",
     "output_type": "stream",
     "text": [
      "Uploaded bls_data.json to S3.\n"
     ]
    }
   ],
   "source": [
    "# API payload\n",
    "headers = {'Content-type': 'application/json'}\n",
    "data = json.dumps({\n",
    "    \"seriesid\": [\"CUUR0000SA0\", \"SUUR0000SA0\"],  # You can customize this\n",
    "    \"startyear\": \"2020\",\n",
    "    \"endyear\": \"2024\",\n",
    "    \"registrationkey\": API_KEY\n",
    "})\n",
    "\n",
    "# Make request\n",
    "response = requests.post(\n",
    "    \"https://api.bls.gov/publicAPI/v2/timeseries/data/\",\n",
    "    data=data,\n",
    "    headers=headers\n",
    ")\n",
    "\n",
    "if response.status_code == 200:\n",
    "    results = response.json()\n",
    "    \n",
    "    # Save locally\n",
    "    with open(\"bls_data.json\", \"w\") as f:\n",
    "        json.dump(results, f, indent=2)\n",
    "    \n",
    "    # Upload JSON file to S3 bucket\n",
    "    s3.put_object(\n",
    "        Bucket=BUCKET_NAME,\n",
    "        Key=\"bls_data.json\",\n",
    "        Body=json.dumps(results, indent=2)\n",
    "    )\n",
    "    \n",
    "    print(\"Uploaded bls_data.json to S3.\")\n",
    "else:\n",
    "    print(\"Error: \", response.status_code)\n",
    "    print(response.text)"
   ]
  },
  {
   "cell_type": "markdown",
   "id": "54c53bc0",
   "metadata": {
    "papermill": {
     "duration": 0.002469,
     "end_time": "2025-08-12T02:52:40.820997",
     "exception": false,
     "start_time": "2025-08-12T02:52:40.818528",
     "status": "completed"
    },
    "tags": []
   },
   "source": [
    "## **API Data Pipeline – Send Files to S3 (No API Key Needed)**\n",
    "- **Custom User-Agent** to comply with BLS access rules and avoid 403 errors.  \n",
    "- **Checks for changes** by comparing file hashes before uploading.  \n",
    "- **Uploads only when updated**, reducing bandwidth usage and S3 storage costs.  "
   ]
  },
  {
   "cell_type": "code",
   "execution_count": 3,
   "id": "a28c41f2",
   "metadata": {
    "execution": {
     "iopub.execute_input": "2025-08-12T02:52:40.827466Z",
     "iopub.status.busy": "2025-08-12T02:52:40.827107Z",
     "iopub.status.idle": "2025-08-12T02:52:41.630064Z",
     "shell.execute_reply": "2025-08-12T02:52:41.629058Z"
    },
    "papermill": {
     "duration": 0.80816,
     "end_time": "2025-08-12T02:52:41.631690",
     "exception": false,
     "start_time": "2025-08-12T02:52:40.823530",
     "status": "completed"
    },
    "tags": []
   },
   "outputs": [
    {
     "name": "stdout",
     "output_type": "stream",
     "text": [
      "pr.data.0.Current  File Downloaded from BLS\n",
      "No changes detected. Upload skipped.\n"
     ]
    }
   ],
   "source": [
    "import hashlib\n",
    "import requests\n",
    "\n",
    "# CONFIG \n",
    "file_name = \"pr.data.0.Current\"\n",
    "bls_url = f\"https://download.bls.gov/pub/time.series/pr/{file_name}\"\n",
    "headers = {\n",
    "    \"User-Agent\": \"ScottSchmidt/1.0 (scott.schmidt1989@yahoo.com)\"\n",
    "}\n",
    "\n",
    "# Download file from BLS:\n",
    "print(file_name, \" File Downloaded from BLS\")\n",
    "response = requests.get(bls_url, headers=headers)\n",
    "\n",
    "if response.status_code != 200:\n",
    "    print(\"Failed to download BLS data:\", response.status_code)\n",
    "else:\n",
    "    content = response.text\n",
    "    content_hash = hashlib.md5(content.encode(\"utf-8\")).hexdigest()\n",
    "\n",
    "    try:\n",
    "        existing_obj = s3.get_object(Bucket=BUCKET_NAME, Key=file_name)\n",
    "        existing_content = existing_obj['Body'].read().decode(\"utf-8\")\n",
    "        existing_hash = hashlib.md5(existing_content.encode(\"utf-8\")).hexdigest()\n",
    "\n",
    "        if content_hash == existing_hash:\n",
    "            print(\"No changes detected. Upload skipped.\")\n",
    "        else:\n",
    "            s3.put_object(Bucket=BUCKET_NAME, Key=file_name, Body=content)\n",
    "            print(\"Updated file uploaded to S3.\")\n",
    "    except s3.exceptions.NoSuchKey:\n",
    "        # File doesn't exist yet\n",
    "        s3.put_object(Bucket=BUCKET_NAME, Key=file_name, Body=content)\n",
    "        print(\"File not found in S3. Uploaded new file.\")"
   ]
  },
  {
   "cell_type": "markdown",
   "id": "30107dbf",
   "metadata": {
    "papermill": {
     "duration": 0.002934,
     "end_time": "2025-08-12T02:52:41.637697",
     "exception": false,
     "start_time": "2025-08-12T02:52:41.634763",
     "status": "completed"
    },
    "tags": []
   },
   "source": [
    "## Fetch and Upload BLS Data for Each Series ID\n",
    "This section goes through each BLS series ID, requests data from the API, \n",
    "and uploads it to S3 only if the data has changed since the last upload."
   ]
  },
  {
   "cell_type": "code",
   "execution_count": 4,
   "id": "e2f583b1",
   "metadata": {
    "execution": {
     "iopub.execute_input": "2025-08-12T02:52:41.645329Z",
     "iopub.status.busy": "2025-08-12T02:52:41.644973Z",
     "iopub.status.idle": "2025-08-12T02:52:43.044627Z",
     "shell.execute_reply": "2025-08-12T02:52:43.043476Z"
    },
    "papermill": {
     "duration": 1.405322,
     "end_time": "2025-08-12T02:52:43.046213",
     "exception": false,
     "start_time": "2025-08-12T02:52:41.640891",
     "status": "completed"
    },
    "tags": []
   },
   "outputs": [
    {
     "name": "stdout",
     "output_type": "stream",
     "text": [
      "Fetching CUUR0000SA0 from BLS API...\n",
      "Uploaded to S3!  CUUR0000SA0.json\n",
      "Fetching SUUR0000SA0 from BLS API...\n",
      "Uploaded to S3!  SUUR0000SA0.json\n"
     ]
    }
   ],
   "source": [
    "# Series IDs you want to fetch\n",
    "series_ids = [\"CUUR0000SA0\", \"SUUR0000SA0\"]  \n",
    "\n",
    "# Loop through each series and fetch data from the BLS API\n",
    "for series_id in series_ids:\n",
    "    print(f\"Fetching {series_id} from BLS API...\")\n",
    "\n",
    "    # Prepare API request payload\n",
    "    payload = json.dumps({\n",
    "        \"seriesid\": [series_id],\n",
    "        \"startyear\": \"2020\",\n",
    "        \"endyear\": \"2024\",\n",
    "        \"registrationkey\": API_KEY\n",
    "    })\n",
    "\n",
    "    # Send POST request to the BLS API\n",
    "    response = requests.post(\n",
    "        \"https://api.bls.gov/publicAPI/v2/timeseries/data/\",\n",
    "        data=payload,\n",
    "        headers={\"Content-type\": \"application/json\"}\n",
    "    )\n",
    "\n",
    "    #  Skip if API request fails\n",
    "    if response.status_code != 200:\n",
    "        print(f\"Failed to fetch {series_id}: {response.status_code}\")\n",
    "        continue\n",
    "\n",
    "    # Skip if API request fails\n",
    "    content = response.text\n",
    "    hash_new = hashlib.md5(content.encode(\"utf-8\")).hexdigest()\n",
    "    s3_key = f\"{series_id}.json\"\n",
    "\n",
    "    # Check if file already exists in S3 with same content\n",
    "    try:\n",
    "        obj = s3.get_object(Bucket=BUCKET_NAME, Key=s3_key)\n",
    "        existing = obj[\"Body\"].read().decode(\"utf-8\")\n",
    "        hash_existing = hashlib.md5(existing.encode(\"utf-8\")).hexdigest()\n",
    "\n",
    "        if hash_existing == hash_new:\n",
    "            print(series_id, \" Skipping. Unchanged series_id\")\n",
    "            continue\n",
    "    except ClientError:\n",
    "        pass  # File doesn't exist \n",
    "\n",
    "    # Upload to S3\n",
    "    s3.put_object(Bucket=BUCKET_NAME, Key=s3_key, Body=content)\n",
    "    print(\"Uploaded to S3! \", s3_key)"
   ]
  },
  {
   "cell_type": "markdown",
   "id": "798b764d",
   "metadata": {
    "papermill": {
     "duration": 0.002729,
     "end_time": "2025-08-12T02:52:43.052219",
     "exception": false,
     "start_time": "2025-08-12T02:52:43.049490",
     "status": "completed"
    },
    "tags": []
   },
   "source": [
    "## Preview BLS Data from S3\n",
    "This section retrieves a specific BLS JSON file from Amazon S3, \n",
    "converts it into a Pandas DataFrame, reorders the columns, \n",
    "and displays the first few rows for inspection."
   ]
  },
  {
   "cell_type": "code",
   "execution_count": 5,
   "id": "579a9b60",
   "metadata": {
    "execution": {
     "iopub.execute_input": "2025-08-12T02:52:43.059829Z",
     "iopub.status.busy": "2025-08-12T02:52:43.059439Z",
     "iopub.status.idle": "2025-08-12T02:52:45.200986Z",
     "shell.execute_reply": "2025-08-12T02:52:45.200031Z"
    },
    "papermill": {
     "duration": 2.147023,
     "end_time": "2025-08-12T02:52:45.202505",
     "exception": false,
     "start_time": "2025-08-12T02:52:43.055482",
     "status": "completed"
    },
    "tags": []
   },
   "outputs": [
    {
     "name": "stdout",
     "output_type": "stream",
     "text": [
      "DataFrame Shape:  (60, 4)\n"
     ]
    },
    {
     "data": {
      "text/html": [
       "<div>\n",
       "<style scoped>\n",
       "    .dataframe tbody tr th:only-of-type {\n",
       "        vertical-align: middle;\n",
       "    }\n",
       "\n",
       "    .dataframe tbody tr th {\n",
       "        vertical-align: top;\n",
       "    }\n",
       "\n",
       "    .dataframe thead th {\n",
       "        text-align: right;\n",
       "    }\n",
       "</style>\n",
       "<table border=\"1\" class=\"dataframe\">\n",
       "  <thead>\n",
       "    <tr style=\"text-align: right;\">\n",
       "      <th></th>\n",
       "      <th>year</th>\n",
       "      <th>period</th>\n",
       "      <th>value</th>\n",
       "      <th>footnotes</th>\n",
       "    </tr>\n",
       "  </thead>\n",
       "  <tbody>\n",
       "    <tr>\n",
       "      <th>0</th>\n",
       "      <td>2024</td>\n",
       "      <td>M12</td>\n",
       "      <td>315.605</td>\n",
       "      <td>[{}]</td>\n",
       "    </tr>\n",
       "    <tr>\n",
       "      <th>1</th>\n",
       "      <td>2024</td>\n",
       "      <td>M11</td>\n",
       "      <td>315.493</td>\n",
       "      <td>[{}]</td>\n",
       "    </tr>\n",
       "    <tr>\n",
       "      <th>2</th>\n",
       "      <td>2024</td>\n",
       "      <td>M10</td>\n",
       "      <td>315.664</td>\n",
       "      <td>[{}]</td>\n",
       "    </tr>\n",
       "    <tr>\n",
       "      <th>3</th>\n",
       "      <td>2024</td>\n",
       "      <td>M09</td>\n",
       "      <td>315.301</td>\n",
       "      <td>[{}]</td>\n",
       "    </tr>\n",
       "    <tr>\n",
       "      <th>4</th>\n",
       "      <td>2024</td>\n",
       "      <td>M08</td>\n",
       "      <td>314.796</td>\n",
       "      <td>[{}]</td>\n",
       "    </tr>\n",
       "    <tr>\n",
       "      <th>5</th>\n",
       "      <td>2024</td>\n",
       "      <td>M07</td>\n",
       "      <td>314.540</td>\n",
       "      <td>[{}]</td>\n",
       "    </tr>\n",
       "    <tr>\n",
       "      <th>6</th>\n",
       "      <td>2024</td>\n",
       "      <td>M06</td>\n",
       "      <td>314.175</td>\n",
       "      <td>[{}]</td>\n",
       "    </tr>\n",
       "    <tr>\n",
       "      <th>7</th>\n",
       "      <td>2024</td>\n",
       "      <td>M05</td>\n",
       "      <td>314.069</td>\n",
       "      <td>[{}]</td>\n",
       "    </tr>\n",
       "    <tr>\n",
       "      <th>8</th>\n",
       "      <td>2024</td>\n",
       "      <td>M04</td>\n",
       "      <td>313.548</td>\n",
       "      <td>[{}]</td>\n",
       "    </tr>\n",
       "    <tr>\n",
       "      <th>9</th>\n",
       "      <td>2024</td>\n",
       "      <td>M03</td>\n",
       "      <td>312.332</td>\n",
       "      <td>[{}]</td>\n",
       "    </tr>\n",
       "    <tr>\n",
       "      <th>10</th>\n",
       "      <td>2024</td>\n",
       "      <td>M02</td>\n",
       "      <td>310.326</td>\n",
       "      <td>[{}]</td>\n",
       "    </tr>\n",
       "    <tr>\n",
       "      <th>11</th>\n",
       "      <td>2024</td>\n",
       "      <td>M01</td>\n",
       "      <td>308.417</td>\n",
       "      <td>[{}]</td>\n",
       "    </tr>\n",
       "    <tr>\n",
       "      <th>12</th>\n",
       "      <td>2023</td>\n",
       "      <td>M12</td>\n",
       "      <td>306.746</td>\n",
       "      <td>[{}]</td>\n",
       "    </tr>\n",
       "    <tr>\n",
       "      <th>13</th>\n",
       "      <td>2023</td>\n",
       "      <td>M11</td>\n",
       "      <td>307.051</td>\n",
       "      <td>[{}]</td>\n",
       "    </tr>\n",
       "    <tr>\n",
       "      <th>14</th>\n",
       "      <td>2023</td>\n",
       "      <td>M10</td>\n",
       "      <td>307.671</td>\n",
       "      <td>[{}]</td>\n",
       "    </tr>\n",
       "    <tr>\n",
       "      <th>15</th>\n",
       "      <td>2023</td>\n",
       "      <td>M09</td>\n",
       "      <td>307.789</td>\n",
       "      <td>[{}]</td>\n",
       "    </tr>\n",
       "    <tr>\n",
       "      <th>16</th>\n",
       "      <td>2023</td>\n",
       "      <td>M08</td>\n",
       "      <td>307.026</td>\n",
       "      <td>[{}]</td>\n",
       "    </tr>\n",
       "    <tr>\n",
       "      <th>17</th>\n",
       "      <td>2023</td>\n",
       "      <td>M07</td>\n",
       "      <td>305.691</td>\n",
       "      <td>[{}]</td>\n",
       "    </tr>\n",
       "    <tr>\n",
       "      <th>18</th>\n",
       "      <td>2023</td>\n",
       "      <td>M06</td>\n",
       "      <td>305.109</td>\n",
       "      <td>[{}]</td>\n",
       "    </tr>\n",
       "    <tr>\n",
       "      <th>19</th>\n",
       "      <td>2023</td>\n",
       "      <td>M05</td>\n",
       "      <td>304.127</td>\n",
       "      <td>[{}]</td>\n",
       "    </tr>\n",
       "  </tbody>\n",
       "</table>\n",
       "</div>"
      ],
      "text/plain": [
       "    year period    value footnotes\n",
       "0   2024    M12  315.605      [{}]\n",
       "1   2024    M11  315.493      [{}]\n",
       "2   2024    M10  315.664      [{}]\n",
       "3   2024    M09  315.301      [{}]\n",
       "4   2024    M08  314.796      [{}]\n",
       "5   2024    M07  314.540      [{}]\n",
       "6   2024    M06  314.175      [{}]\n",
       "7   2024    M05  314.069      [{}]\n",
       "8   2024    M04  313.548      [{}]\n",
       "9   2024    M03  312.332      [{}]\n",
       "10  2024    M02  310.326      [{}]\n",
       "11  2024    M01  308.417      [{}]\n",
       "12  2023    M12  306.746      [{}]\n",
       "13  2023    M11  307.051      [{}]\n",
       "14  2023    M10  307.671      [{}]\n",
       "15  2023    M09  307.789      [{}]\n",
       "16  2023    M08  307.026      [{}]\n",
       "17  2023    M07  305.691      [{}]\n",
       "18  2023    M06  305.109      [{}]\n",
       "19  2023    M05  304.127      [{}]"
      ]
     },
     "execution_count": 5,
     "metadata": {},
     "output_type": "execute_result"
    }
   ],
   "source": [
    "import pandas as pd\n",
    "\n",
    "# Load the file content \n",
    "key = \"CUUR0000SA0.json\" # SUUR0000SA0\n",
    "obj = s3.get_object(Bucket=BUCKET_NAME, Key=key)\n",
    "json_content = json.loads(obj['Body'].read().decode('utf-8'))\n",
    "\n",
    "# Extract data into DataFrame\n",
    "series_data = json_content['Results']['series'][0]['data']\n",
    "df = pd.DataFrame(series_data)\n",
    "df = df[[\"year\", \"period\", \"value\", \"footnotes\"]]\n",
    "print(\"DataFrame Shape: \", df.shape)\n",
    "df.head(20)"
   ]
  }
 ],
 "metadata": {
  "kaggle": {
   "accelerator": "none",
   "dataSources": [],
   "dockerImageVersionId": 31089,
   "isGpuEnabled": false,
   "isInternetEnabled": true,
   "language": "python",
   "sourceType": "notebook"
  },
  "kernelspec": {
   "display_name": "Python 3",
   "language": "python",
   "name": "python3"
  },
  "language_info": {
   "codemirror_mode": {
    "name": "ipython",
    "version": 3
   },
   "file_extension": ".py",
   "mimetype": "text/x-python",
   "name": "python",
   "nbconvert_exporter": "python",
   "pygments_lexer": "ipython3",
   "version": "3.11.13"
  },
  "papermill": {
   "default_parameters": {},
   "duration": 13.558984,
   "end_time": "2025-08-12T02:52:45.826073",
   "environment_variables": {},
   "exception": null,
   "input_path": "__notebook__.ipynb",
   "output_path": "__notebook__.ipynb",
   "parameters": {},
   "start_time": "2025-08-12T02:52:32.267089",
   "version": "2.6.0"
  }
 },
 "nbformat": 4,
 "nbformat_minor": 5
}
