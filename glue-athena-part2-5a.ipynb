{
 "cells": [
  {
   "cell_type": "markdown",
   "id": "b532ff2f",
   "metadata": {
    "papermill": {
     "duration": 0.001669,
     "end_time": "2025-08-11T20:17:22.144324",
     "exception": false,
     "start_time": "2025-08-11T20:17:22.142655",
     "status": "completed"
    },
    "tags": []
   },
   "source": [
    "# AWS Data Pipeline – Part 2.5: Glue + Athena\n",
    "In this part of the pipeline, we take the raw population data already stored in Amazon S3 and make it ready for SQL analytics. \n",
    "We do this by using AWS Glue to catalog and transform the data, and Amazon Athena to run serverless SQL queries directly on S3.\n",
    "\n",
    "## Steps covered in this notebook\n",
    "\n",
    "### 1. Catalog the dataset with AWS Glue\n",
    "- Create a Glue database.\n",
    "- Run a Glue Crawler to scan the raw JSON files in S3.\n",
    "- Verify that the schema appears in the Glue Data Catalog.\n",
    "\n",
    "### 2. Transform the data to Parquet\n",
    "- Create a Glue ETL job in PySpark to read the raw JSON.\n",
    "- Clean up column types and names.\n",
    "- Write the data back to S3 in partitioned Parquet format for faster queries.\n",
    "\n",
    "### 3. Query with Amazon Athena"
   ]
  }
 ],
 "metadata": {
  "kaggle": {
   "accelerator": "none",
   "dataSources": [],
   "dockerImageVersionId": 31089,
   "isGpuEnabled": false,
   "isInternetEnabled": true,
   "language": "python",
   "sourceType": "notebook"
  },
  "kernelspec": {
   "display_name": "Python 3",
   "language": "python",
   "name": "python3"
  },
  "language_info": {
   "codemirror_mode": {
    "name": "ipython",
    "version": 3
   },
   "file_extension": ".py",
   "mimetype": "text/x-python",
   "name": "python",
   "nbconvert_exporter": "python",
   "pygments_lexer": "ipython3",
   "version": "3.11.13"
  },
  "papermill": {
   "default_parameters": {},
   "duration": 5.558465,
   "end_time": "2025-08-11T20:17:22.566352",
   "environment_variables": {},
   "exception": null,
   "input_path": "__notebook__.ipynb",
   "output_path": "__notebook__.ipynb",
   "parameters": {},
   "start_time": "2025-08-11T20:17:17.007887",
   "version": "2.6.0"
  }
 },
 "nbformat": 4,
 "nbformat_minor": 5
}
