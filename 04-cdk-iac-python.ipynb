{
 "cells": [
  {
   "cell_type": "markdown",
   "id": "8bc17964",
   "metadata": {
    "papermill": {
     "duration": 0.003333,
     "end_time": "2025-08-13T20:25:37.709102",
     "exception": false,
     "start_time": "2025-08-13T20:25:37.705769",
     "status": "completed"
    },
    "tags": []
   },
   "source": [
    "# # AWS CDK Deployment - Python Version - Part 4\n",
    "This step defines the infrastructure for the data pipeline using AWS CDK (Python) to stand up and wire everything for automated ingestion and processing of the BLS + population datasets. \n",
    "\n",
    "**[View CloudShell/CDK Logs — Part 4 (Sanitized)](https://github.com/ScottySchmidt/AWS_DataEngineer_API/tree/main/docs/part4)**  \n",
    "↑ That link shows the CloudShell based deploy for reference; this section documents the pure Python/CDK approach.\n",
    "\n",
    "Uses AWS CDK (Python) to deploy the pipeline infrastructure:\n",
    "- Lambda, S3, and SQS resources\n",
    "- A daily ingest job (Parts 1 & 2)\n",
    "- Automatic processing (Part 3) when new files land in S3\n",
    "\n",
    "### Pipeline Flow\n",
    "1. Deploy infrastructure with CDK (S3, Lambdas, SQS, EventBridge, IAM).\n",
    "2. EventBridge triggers the Ingest Lambda daily.\n",
    "3. Ingest writes fresh datasets to S3.\n",
    "4. S3 emits object-created events to SQS (filtered for your files).\n",
    "5. SQS invokes the Report Lambda to process/aggregate and write outputs.\n",
    "6. CloudWatch Logs capture logs/metrics for both Lambdas."
   ]
  },
  {
   "cell_type": "code",
   "execution_count": 1,
   "id": "21f87254",
   "metadata": {
    "execution": {
     "iopub.execute_input": "2025-08-13T20:25:37.716499Z",
     "iopub.status.busy": "2025-08-13T20:25:37.716043Z",
     "iopub.status.idle": "2025-08-13T20:25:39.814369Z",
     "shell.execute_reply": "2025-08-13T20:25:39.813390Z"
    },
    "papermill": {
     "duration": 2.103632,
     "end_time": "2025-08-13T20:25:39.815938",
     "exception": false,
     "start_time": "2025-08-13T20:25:37.712306",
     "status": "completed"
    },
    "tags": []
   },
   "outputs": [
    {
     "name": "stdout",
     "output_type": "stream",
     "text": [
      "Running..\n",
      "S3 connection successful. Bucket contains:  6\n",
      "Done.\n"
     ]
    }
   ],
   "source": [
    "import os, json, boto3\n",
    "import requests\n",
    "import hashlib\n",
    "from kaggle_secrets import UserSecretsClient\n",
    "import time \n",
    "start = time.time()\n",
    "print(\"Running..\")\n",
    "\n",
    "# Load AWS secrets\n",
    "secrets = UserSecretsClient()\n",
    "API_KEY = secrets.get_secret(\"BLS_API_KEY\")\n",
    "AWS_ACCESS_KEY_ID = secrets.get_secret(\"AWS_ACCESS_KEY_ID\")\n",
    "AWS_SECRET_ACCESS_KEY = secrets.get_secret(\"AWS_SECRET_ACCESS_KEY\")\n",
    "AWS_REGION = secrets.get_secret(\"AWS_REGION\")\n",
    "BUCKET_NAME = secrets.get_secret(\"BUCKET_NAME\")\n",
    "\n",
    "# Setup AWS session and S3\n",
    "session = boto3.Session(\n",
    "    aws_access_key_id=AWS_ACCESS_KEY_ID,\n",
    "    aws_secret_access_key=AWS_SECRET_ACCESS_KEY,\n",
    "    region_name=AWS_REGION\n",
    ")\n",
    "s3 = session.client(\"s3\")\n",
    "\n",
    "# Test S3 connection WITHOUT revealing keys\n",
    "try:\n",
    "    response = s3.list_objects_v2(Bucket=BUCKET_NAME)\n",
    "    num_files = response.get('KeyCount', 0)\n",
    "    print(\"S3 connection successful. Bucket contains: \", num_files)\n",
    "except Exception as e:\n",
    "    print(\"S3 connection failed: \", e)\n",
    "print(\"Done.\")"
   ]
  },
  {
   "cell_type": "code",
   "execution_count": 2,
   "id": "5f5aabad",
   "metadata": {
    "execution": {
     "iopub.execute_input": "2025-08-13T20:25:39.823200Z",
     "iopub.status.busy": "2025-08-13T20:25:39.822707Z",
     "iopub.status.idle": "2025-08-13T20:25:40.449490Z",
     "shell.execute_reply": "2025-08-13T20:25:40.448481Z"
    },
    "papermill": {
     "duration": 0.632094,
     "end_time": "2025-08-13T20:25:40.450946",
     "exception": false,
     "start_time": "2025-08-13T20:25:39.818852",
     "status": "completed"
    },
    "tags": []
   },
   "outputs": [
    {
     "name": "stdout",
     "output_type": "stream",
     "text": [
      "Exported Kaggle secrets to env vars.\n"
     ]
    }
   ],
   "source": [
    "import os\n",
    "from kaggle_secrets import UserSecretsClient\n",
    "\n",
    "secrets = UserSecretsClient()\n",
    "\n",
    "# Pull from Kaggle Secrets and mirror into environment vars\n",
    "for key in [\"AWS_ACCESS_KEY_ID\", \"AWS_SECRET_ACCESS_KEY\", \"AWS_REGION\", \"BUCKET_NAME\"]:\n",
    "    v = secrets.get_secret(key)\n",
    "    if v:\n",
    "        os.environ[key] = v\n",
    "\n",
    "# If only AWS_REGION is set, mirror it to AWS_DEFAULT_REGION for libraries that expect that\n",
    "if os.environ.get(\"AWS_REGION\") and not os.environ.get(\"AWS_DEFAULT_REGION\"):\n",
    "    os.environ[\"AWS_DEFAULT_REGION\"] = os.environ[\"AWS_REGION\"]\n",
    "\n",
    "print(\"Exported Kaggle secrets to env vars.\")"
   ]
  },
  {
   "cell_type": "code",
   "execution_count": 3,
   "id": "d9937203",
   "metadata": {
    "execution": {
     "iopub.execute_input": "2025-08-13T20:25:40.458026Z",
     "iopub.status.busy": "2025-08-13T20:25:40.457701Z",
     "iopub.status.idle": "2025-08-13T20:25:41.174069Z",
     "shell.execute_reply": "2025-08-13T20:25:41.173177Z"
    },
    "papermill": {
     "duration": 0.721635,
     "end_time": "2025-08-13T20:25:41.175564",
     "exception": false,
     "start_time": "2025-08-13T20:25:40.453929",
     "status": "completed"
    },
    "tags": []
   },
   "outputs": [
    {
     "name": "stdout",
     "output_type": "stream",
     "text": [
      "SQS ready\n",
      "ARN ready\n"
     ]
    }
   ],
   "source": [
    "REGION = os.environ.get(\"AWS_DEFAULT_REGION\", \"us-east-1\")\n",
    "sqs = boto3.client(\"sqs\", region_name=REGION)\n",
    "\n",
    "resp = sqs.create_queue(\n",
    "    QueueName=\"JsonWriteQueue\",\n",
    "    Attributes={\"VisibilityTimeout\": \"300\"}  # seconds\n",
    ")\n",
    "QUEUE_URL = resp[\"QueueUrl\"]\n",
    "QUEUE_ATTR = sqs.get_queue_attributes(QueueUrl=QUEUE_URL, AttributeNames=[\"QueueArn\"])\n",
    "QUEUE_ARN = QUEUE_ATTR[\"Attributes\"][\"QueueArn\"]\n",
    "\n",
    "print(\"SQS ready\")\n",
    "print(\"ARN ready\")"
   ]
  },
  {
   "cell_type": "code",
   "execution_count": 4,
   "id": "b03b50a2",
   "metadata": {
    "execution": {
     "iopub.execute_input": "2025-08-13T20:25:41.183391Z",
     "iopub.status.busy": "2025-08-13T20:25:41.183062Z",
     "iopub.status.idle": "2025-08-13T20:25:41.671301Z",
     "shell.execute_reply": "2025-08-13T20:25:41.670205Z"
    },
    "papermill": {
     "duration": 0.493886,
     "end_time": "2025-08-13T20:25:41.672869",
     "exception": false,
     "start_time": "2025-08-13T20:25:41.178983",
     "status": "completed"
    },
    "tags": []
   },
   "outputs": [
    {
     "name": "stdout",
     "output_type": "stream",
     "text": [
      "Functions: ['BlsPipelineStack-BlsReportFn1ABE5E21-0qZIzspWVVtL', 'CFN-SM-IM-Lambda-catalog-DelayLambda-GH20qvggV0UO', 'BlsPipelineStack-BlsIngestFnCD0BBA37-KqHbWeaT1WT3', 'bls-ingest', 'CFGetCatalogRoles', 'RearcBLSLambda', 'CFGetDefaultVpcIdTut', 'MyFirstLambda', 'S3FileProcessorLambda', 'GitHubWebhookLambda', 'BlsPipelineStack-BucketNotificationsHandler050a058-iFZUwiLm9Toh', 'CFEnableSagemakerProjectsTut']\n"
     ]
    }
   ],
   "source": [
    "#LAMBDA SMOKE TEST: \n",
    "lam = session.client(\"lambda\")\n",
    "fns = lam.list_functions()['Functions']\n",
    "names = []\n",
    "for function in fns:\n",
    "    name = function[\"FunctionName\"]\n",
    "    names.append(name)\n",
    "print(\"Functions:\", names)"
   ]
  },
  {
   "cell_type": "code",
   "execution_count": 5,
   "id": "5390d9b0",
   "metadata": {
    "execution": {
     "iopub.execute_input": "2025-08-13T20:25:41.681003Z",
     "iopub.status.busy": "2025-08-13T20:25:41.680667Z",
     "iopub.status.idle": "2025-08-13T20:25:42.203166Z",
     "shell.execute_reply": "2025-08-13T20:25:42.202214Z"
    },
    "papermill": {
     "duration": 0.528768,
     "end_time": "2025-08-13T20:25:42.204694",
     "exception": false,
     "start_time": "2025-08-13T20:25:41.675926",
     "status": "completed"
    },
    "tags": []
   },
   "outputs": [
    {
     "name": "stdout",
     "output_type": "stream",
     "text": [
      "SQS ready\n",
      "Queue URL:\n",
      "Queue ARN:\n"
     ]
    }
   ],
   "source": [
    "import os, boto3\n",
    "from botocore.exceptions import ClientError\n",
    "\n",
    "REGION = os.getenv(\"AWS_DEFAULT_REGION\", \"us-east-1\")\n",
    "QUEUE_NAME = \"BlsPipelineStack-JsonWriteQueue5A3EABE8-LZV3FOGqIIfU\"  # your CDK queue\n",
    "\n",
    "sqs = boto3.client(\"sqs\", region_name=REGION)\n",
    "\n",
    "try:\n",
    "    QUEUE_URL = sqs.get_queue_url(QueueName=QUEUE_NAME)[\"QueueUrl\"]\n",
    "    QUEUE_ARN = sqs.get_queue_attributes(\n",
    "        QueueUrl=QUEUE_URL,\n",
    "        AttributeNames=[\"QueueArn\"]\n",
    "    )[\"Attributes\"][\"QueueArn\"]\n",
    "    print(\"SQS ready\")\n",
    "    print(\"Queue URL:\")\n",
    "    print(\"Queue ARN:\")\n",
    "except ClientError as e:\n",
    "    print(\"Failed to resolve existing queue:\", e)"
   ]
  },
  {
   "cell_type": "code",
   "execution_count": 6,
   "id": "b5e78420",
   "metadata": {
    "execution": {
     "iopub.execute_input": "2025-08-13T20:25:42.212383Z",
     "iopub.status.busy": "2025-08-13T20:25:42.211807Z",
     "iopub.status.idle": "2025-08-13T20:25:42.887258Z",
     "shell.execute_reply": "2025-08-13T20:25:42.886374Z"
    },
    "papermill": {
     "duration": 0.680785,
     "end_time": "2025-08-13T20:25:42.888689",
     "exception": false,
     "start_time": "2025-08-13T20:25:42.207904",
     "status": "completed"
    },
    "tags": []
   },
   "outputs": [
    {
     "name": "stdout",
     "output_type": "stream",
     "text": [
      "Status: 200\n"
     ]
    }
   ],
   "source": [
    "from botocore.config import Config\n",
    "\n",
    "# CONFIG:\n",
    "AWS_REGION = os.getenv(\"AWS_DEFAULT_REGION\", \"us-east-1\")\n",
    "INGEST_LAMBDA = os.getenv(\"INGEST_LAMBDA\", \"RearcBLSLambda\")  # your new ingest function\n",
    "\n",
    "# boto3 client with sensible timeouts/retries\n",
    "lam = boto3.client(\n",
    "    \"lambda\",\n",
    "    region_name=AWS_REGION,\n",
    "    config=Config(connect_timeout=3, read_timeout=10, retries={\"max_attempts\": 2})\n",
    ")\n",
    "\n",
    "# INVOKE:\n",
    "resp = lam.invoke(\n",
    "    FunctionName=INGEST_LAMBDA,\n",
    "    InvocationType=\"RequestResponse\",\n",
    "    Payload=json.dumps({}).encode(\"utf-8\")  # send an empty JSON payload\n",
    ")\n",
    "\n",
    "status = resp.get(\"StatusCode\")\n",
    "print(\"Status:\", status)"
   ]
  },
  {
   "cell_type": "code",
   "execution_count": 7,
   "id": "4ef6c752",
   "metadata": {
    "execution": {
     "iopub.execute_input": "2025-08-13T20:25:42.896666Z",
     "iopub.status.busy": "2025-08-13T20:25:42.895771Z",
     "iopub.status.idle": "2025-08-13T20:25:42.903156Z",
     "shell.execute_reply": "2025-08-13T20:25:42.902221Z"
    },
    "papermill": {
     "duration": 0.012544,
     "end_time": "2025-08-13T20:25:42.904437",
     "exception": false,
     "start_time": "2025-08-13T20:25:42.891893",
     "status": "completed"
    },
    "tags": []
   },
   "outputs": [
    {
     "name": "stdout",
     "output_type": "stream",
     "text": [
      "Payload: {\n",
      "  \"statusCode\": 200,\n",
      "  \"body\": \"upload complete\"\n",
      "}\n",
      "Success\n",
      "Done\n"
     ]
    }
   ],
   "source": [
    "# Show function errors if any\n",
    "if resp.get(\"FunctionError\"):\n",
    "    print(\"FunctionError:\", resp[\"FunctionError\"])\n",
    "\n",
    "# Response payload\n",
    "raw = resp[\"Payload\"].read()\n",
    "if raw:\n",
    "    try:\n",
    "        payload = json.loads(raw)\n",
    "        # If Lambda returned {\"statusCode\":..., \"body\": \"<json string>\"}, decode body too\n",
    "        if isinstance(payload.get(\"body\"), str):\n",
    "            try:\n",
    "                payload[\"body\"] = json.loads(payload[\"body\"])\n",
    "            except Exception:\n",
    "                pass\n",
    "        print(\"Payload:\", json.dumps(payload, indent=2)[:2000])\n",
    "    except Exception:\n",
    "        print(\"Payload (raw):\", raw[:2000])\n",
    "\n",
    "# Status Code:\n",
    "if status==200:\n",
    "    print(\"Success\")\n",
    "else:\n",
    "    print(\"Issue\", status)\n",
    "print(\"Done\")"
   ]
  },
  {
   "cell_type": "code",
   "execution_count": 8,
   "id": "9f5dc86f",
   "metadata": {
    "execution": {
     "iopub.execute_input": "2025-08-13T20:25:42.911405Z",
     "iopub.status.busy": "2025-08-13T20:25:42.911120Z",
     "iopub.status.idle": "2025-08-13T20:25:43.150316Z",
     "shell.execute_reply": "2025-08-13T20:25:43.149309Z"
    },
    "papermill": {
     "duration": 0.244164,
     "end_time": "2025-08-13T20:25:43.151666",
     "exception": false,
     "start_time": "2025-08-13T20:25:42.907502",
     "status": "completed"
    },
    "tags": []
   },
   "outputs": [
    {
     "name": "stdout",
     "output_type": "stream",
     "text": [
      "Payload\n",
      "{\n",
      "  \"statusCode\": 200,\n",
      "  \"body\": \"upload complete\"\n",
      "}\n",
      "Result. Status = 200\n"
     ]
    }
   ],
   "source": [
    "import json, base64\n",
    "resp = lam.invoke(\n",
    "    FunctionName=INGEST_LAMBDA,  # your Lambda name\n",
    "    InvocationType=\"RequestResponse\"\n",
    ")\n",
    "status = resp.get(\"StatusCode\")\n",
    "err = resp.get(\"FunctionError\")\n",
    "\n",
    "# Read the payload ONCE\n",
    "raw_payload = resp[\"Payload\"].read()\n",
    "\n",
    "# Decode Lambda logs if they exist\n",
    "if \"LogResult\" in resp:\n",
    "    print(\"Lambda Logs\")\n",
    "    print(base64.b64decode(resp[\"LogResult\"]).decode(\"utf-8\", \"ignore\"))\n",
    "\n",
    "# Decode \n",
    "if raw_payload:\n",
    "    try:\n",
    "        payload_json = json.loads(raw_payload.decode(\"utf-8\"))\n",
    "        print(\"Payload\")\n",
    "        print(json.dumps(payload_json, indent=2))\n",
    "    except Exception:\n",
    "        print(\"Payload (raw)\")\n",
    "        print(raw_payload.decode(\"utf-8\", \"ignore\"))\n",
    "else:\n",
    "    print(\"Payload is empty\")\n",
    "\n",
    "if status == 200:\n",
    "    print(\"Result. Status = 200\")\n",
    "else:\n",
    "    print(\"Error: \", err)"
   ]
  },
  {
   "cell_type": "code",
   "execution_count": 9,
   "id": "62108aee",
   "metadata": {
    "execution": {
     "iopub.execute_input": "2025-08-13T20:25:43.159040Z",
     "iopub.status.busy": "2025-08-13T20:25:43.158696Z",
     "iopub.status.idle": "2025-08-13T20:25:43.163406Z",
     "shell.execute_reply": "2025-08-13T20:25:43.162525Z"
    },
    "papermill": {
     "duration": 0.009783,
     "end_time": "2025-08-13T20:25:43.164644",
     "exception": false,
     "start_time": "2025-08-13T20:25:43.154861",
     "status": "completed"
    },
    "tags": []
   },
   "outputs": [
    {
     "name": "stdout",
     "output_type": "stream",
     "text": [
      "5.2 seconds\n"
     ]
    }
   ],
   "source": [
    "end = time.time()\n",
    "print(round(end - start, 2), \"seconds\")"
   ]
  },
  {
   "cell_type": "markdown",
   "id": "e9499262",
   "metadata": {
    "papermill": {
     "duration": 0.003092,
     "end_time": "2025-08-13T20:25:43.171032",
     "exception": false,
     "start_time": "2025-08-13T20:25:43.167940",
     "status": "completed"
    },
    "tags": []
   },
   "source": [
    "### Conclusion\n",
    "That wraps up Part 4 – Infrastructure as Code & the automated pipeline.\n",
    "\n",
    "[View GitHub Repository with All Parts](https://github.com/ScottySchmidt/AWS_DataEngineer_API)"
   ]
  }
 ],
 "metadata": {
  "kaggle": {
   "accelerator": "none",
   "dataSources": [],
   "dockerImageVersionId": 31089,
   "isGpuEnabled": false,
   "isInternetEnabled": true,
   "language": "python",
   "sourceType": "notebook"
  },
  "kernelspec": {
   "display_name": "Python 3",
   "language": "python",
   "name": "python3"
  },
  "language_info": {
   "codemirror_mode": {
    "name": "ipython",
    "version": 3
   },
   "file_extension": ".py",
   "mimetype": "text/x-python",
   "name": "python",
   "nbconvert_exporter": "python",
   "pygments_lexer": "ipython3",
   "version": "3.11.13"
  },
  "papermill": {
   "default_parameters": {},
   "duration": 11.032006,
   "end_time": "2025-08-13T20:25:43.793689",
   "environment_variables": {},
   "exception": null,
   "input_path": "__notebook__.ipynb",
   "output_path": "__notebook__.ipynb",
   "parameters": {},
   "start_time": "2025-08-13T20:25:32.761683",
   "version": "2.6.0"
  }
 },
 "nbformat": 4,
 "nbformat_minor": 5
}
