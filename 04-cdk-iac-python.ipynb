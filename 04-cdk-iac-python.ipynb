{
 "cells": [
  {
   "cell_type": "markdown",
   "id": "11f96973",
   "metadata": {
    "papermill": {
     "duration": 0.003729,
     "end_time": "2025-08-13T22:39:37.688265",
     "exception": false,
     "start_time": "2025-08-13T22:39:37.684536",
     "status": "completed"
    },
    "tags": []
   },
   "source": [
    "# # AWS CDK Deployment - Python Version - Part 4\n",
    "This step defines the infrastructure for the data pipeline using AWS CDK (Python) to stand up and wire everything for automated ingestion and processing of the BLS + population datasets. \n",
    "\n",
    "**[View CloudShell/CDK Logs — Part 4 (Sanitized)](https://github.com/ScottySchmidt/AWS_DataEngineer_API/tree/main/docs/part4)**  \n",
    "↑ That link shows the CloudShell based deploy for reference; this section documents the pure Python/CDK approach.\n",
    "\n",
    "Uses AWS CDK (Python) to deploy the pipeline infrastructure:\n",
    "- Lambda, S3, and SQS resources\n",
    "- A daily ingest job (Parts 1 & 2)\n",
    "- Automatic processing (Part 3) when new files land in S3\n",
    "\n",
    "### Pipeline Flow\n",
    "1. Deploy infrastructure with CDK (S3, Lambdas, SQS, EventBridge, IAM).\n",
    "2. EventBridge triggers the Ingest Lambda daily.\n",
    "3. Ingest writes fresh datasets to S3.\n",
    "4. S3 emits object-created events to SQS (filtered for your files).\n",
    "5. SQS invokes the Report Lambda to process/aggregate and write outputs.\n",
    "6. CloudWatch Logs capture logs/metrics for both Lambdas."
   ]
  },
  {
   "cell_type": "code",
   "execution_count": 1,
   "id": "9b2deace",
   "metadata": {
    "execution": {
     "iopub.execute_input": "2025-08-13T22:39:37.696495Z",
     "iopub.status.busy": "2025-08-13T22:39:37.696150Z",
     "iopub.status.idle": "2025-08-13T22:39:39.917023Z",
     "shell.execute_reply": "2025-08-13T22:39:39.916031Z"
    },
    "papermill": {
     "duration": 2.226429,
     "end_time": "2025-08-13T22:39:39.918509",
     "exception": false,
     "start_time": "2025-08-13T22:39:37.692080",
     "status": "completed"
    },
    "tags": []
   },
   "outputs": [
    {
     "name": "stdout",
     "output_type": "stream",
     "text": [
      "Running..\n",
      "S3 connection successful. Bucket contains:  6\n",
      "Done.\n"
     ]
    }
   ],
   "source": [
    "import os, json, boto3\n",
    "import requests\n",
    "import hashlib\n",
    "from kaggle_secrets import UserSecretsClient\n",
    "import time \n",
    "start = time.time()\n",
    "print(\"Running..\")\n",
    "\n",
    "# Load AWS secrets\n",
    "secrets = UserSecretsClient()\n",
    "API_KEY = secrets.get_secret(\"BLS_API_KEY\")\n",
    "AWS_ACCESS_KEY_ID = secrets.get_secret(\"AWS_ACCESS_KEY_ID\")\n",
    "AWS_SECRET_ACCESS_KEY = secrets.get_secret(\"AWS_SECRET_ACCESS_KEY\")\n",
    "AWS_REGION = secrets.get_secret(\"AWS_REGION\")\n",
    "BUCKET_NAME = secrets.get_secret(\"BUCKET_NAME\")\n",
    "\n",
    "# Setup AWS session and S3\n",
    "session = boto3.Session(\n",
    "    aws_access_key_id=AWS_ACCESS_KEY_ID,\n",
    "    aws_secret_access_key=AWS_SECRET_ACCESS_KEY,\n",
    "    region_name=AWS_REGION\n",
    ")\n",
    "s3 = session.client(\"s3\")\n",
    "\n",
    "# Test S3 connection WITHOUT revealing keys\n",
    "try:\n",
    "    response = s3.list_objects_v2(Bucket=BUCKET_NAME)\n",
    "    num_files = response.get('KeyCount', 0)\n",
    "    print(\"S3 connection successful. Bucket contains: \", num_files)\n",
    "except Exception as e:\n",
    "    print(\"S3 connection failed: \", e)\n",
    "print(\"Done.\")"
   ]
  },
  {
   "cell_type": "code",
   "execution_count": 2,
   "id": "1f9e1a7d",
   "metadata": {
    "execution": {
     "iopub.execute_input": "2025-08-13T22:39:39.926308Z",
     "iopub.status.busy": "2025-08-13T22:39:39.925848Z",
     "iopub.status.idle": "2025-08-13T22:39:40.450134Z",
     "shell.execute_reply": "2025-08-13T22:39:40.449073Z"
    },
    "papermill": {
     "duration": 0.530169,
     "end_time": "2025-08-13T22:39:40.451870",
     "exception": false,
     "start_time": "2025-08-13T22:39:39.921701",
     "status": "completed"
    },
    "tags": []
   },
   "outputs": [
    {
     "name": "stdout",
     "output_type": "stream",
     "text": [
      "Exported Kaggle secrets to env vars.\n"
     ]
    }
   ],
   "source": [
    "secrets = UserSecretsClient()\n",
    "\n",
    "# Pull from Kaggle Secrets and mirror into environment vars\n",
    "for key in [\"AWS_ACCESS_KEY_ID\", \"AWS_SECRET_ACCESS_KEY\", \"AWS_REGION\", \"BUCKET_NAME\"]:\n",
    "    v = secrets.get_secret(key)\n",
    "    if v:\n",
    "        os.environ[key] = v\n",
    "\n",
    "# If only AWS_REGION is set, mirror it to AWS_DEFAULT_REGION for libraries that expect that\n",
    "if os.environ.get(\"AWS_REGION\") and not os.environ.get(\"AWS_DEFAULT_REGION\"):\n",
    "    os.environ[\"AWS_DEFAULT_REGION\"] = os.environ[\"AWS_REGION\"]\n",
    "\n",
    "print(\"Exported Kaggle secrets to env vars.\")"
   ]
  },
  {
   "cell_type": "code",
   "execution_count": 3,
   "id": "f2a05936",
   "metadata": {
    "execution": {
     "iopub.execute_input": "2025-08-13T22:39:40.459740Z",
     "iopub.status.busy": "2025-08-13T22:39:40.459417Z",
     "iopub.status.idle": "2025-08-13T22:39:41.043150Z",
     "shell.execute_reply": "2025-08-13T22:39:41.042014Z"
    },
    "papermill": {
     "duration": 0.589446,
     "end_time": "2025-08-13T22:39:41.044647",
     "exception": false,
     "start_time": "2025-08-13T22:39:40.455201",
     "status": "completed"
    },
    "tags": []
   },
   "outputs": [
    {
     "name": "stdout",
     "output_type": "stream",
     "text": [
      "SQS ready\n",
      "ARN ready\n"
     ]
    }
   ],
   "source": [
    "REGION = os.environ.get(\"AWS_DEFAULT_REGION\", \"us-east-1\")\n",
    "sqs = boto3.client(\"sqs\", region_name=REGION)\n",
    "\n",
    "resp = sqs.create_queue(\n",
    "    QueueName=\"JsonWriteQueue\",\n",
    "    Attributes={\"VisibilityTimeout\": \"300\"}  # seconds\n",
    ")\n",
    "QUEUE_URL = resp[\"QueueUrl\"]\n",
    "QUEUE_ATTR = sqs.get_queue_attributes(QueueUrl=QUEUE_URL, AttributeNames=[\"QueueArn\"])\n",
    "QUEUE_ARN = QUEUE_ATTR[\"Attributes\"][\"QueueArn\"]\n",
    "\n",
    "print(\"SQS ready\")\n",
    "print(\"ARN ready\")"
   ]
  },
  {
   "cell_type": "code",
   "execution_count": 4,
   "id": "53a28fd7",
   "metadata": {
    "execution": {
     "iopub.execute_input": "2025-08-13T22:39:41.052361Z",
     "iopub.status.busy": "2025-08-13T22:39:41.051964Z",
     "iopub.status.idle": "2025-08-13T22:39:41.435179Z",
     "shell.execute_reply": "2025-08-13T22:39:41.434203Z"
    },
    "papermill": {
     "duration": 0.388847,
     "end_time": "2025-08-13T22:39:41.436750",
     "exception": false,
     "start_time": "2025-08-13T22:39:41.047903",
     "status": "completed"
    },
    "tags": []
   },
   "outputs": [
    {
     "name": "stdout",
     "output_type": "stream",
     "text": [
      "Functions: ['BlsPipelineStack-BlsReportFn1ABE5E21-0qZIzspWVVtL', 'CFN-SM-IM-Lambda-catalog-DelayLambda-GH20qvggV0UO', 'BlsPipelineStack-BlsIngestFnCD0BBA37-KqHbWeaT1WT3', 'bls-ingest', 'CFGetCatalogRoles', 'RearcBLSLambda', 'CFGetDefaultVpcIdTut', 'MyFirstLambda', 'S3FileProcessorLambda', 'GitHubWebhookLambda', 'BlsPipelineStack-BucketNotificationsHandler050a058-iFZUwiLm9Toh', 'CFEnableSagemakerProjectsTut']\n"
     ]
    }
   ],
   "source": [
    "#LAMBDA SMOKE TEST: \n",
    "lam = session.client(\"lambda\")\n",
    "fns = lam.list_functions()['Functions']\n",
    "names = []\n",
    "for function in fns:\n",
    "    name = function[\"FunctionName\"]\n",
    "    names.append(name)\n",
    "print(\"Functions:\", names)"
   ]
  },
  {
   "cell_type": "code",
   "execution_count": 5,
   "id": "4df034d0",
   "metadata": {
    "execution": {
     "iopub.execute_input": "2025-08-13T22:39:41.444823Z",
     "iopub.status.busy": "2025-08-13T22:39:41.444512Z",
     "iopub.status.idle": "2025-08-13T22:39:41.855751Z",
     "shell.execute_reply": "2025-08-13T22:39:41.854814Z"
    },
    "papermill": {
     "duration": 0.417164,
     "end_time": "2025-08-13T22:39:41.857357",
     "exception": false,
     "start_time": "2025-08-13T22:39:41.440193",
     "status": "completed"
    },
    "tags": []
   },
   "outputs": [
    {
     "name": "stdout",
     "output_type": "stream",
     "text": [
      "SQS ready\n",
      "Queue URL:\n",
      "Queue ARN:\n"
     ]
    }
   ],
   "source": [
    "import os, boto3\n",
    "from botocore.exceptions import ClientError\n",
    "\n",
    "REGION = os.getenv(\"AWS_DEFAULT_REGION\", \"us-east-1\")\n",
    "QUEUE_NAME = \"BlsPipelineStack-JsonWriteQueue5A3EABE8-LZV3FOGqIIfU\"  # your CDK queue\n",
    "\n",
    "sqs = boto3.client(\"sqs\", region_name=REGION)\n",
    "\n",
    "try:\n",
    "    QUEUE_URL = sqs.get_queue_url(QueueName=QUEUE_NAME)[\"QueueUrl\"]\n",
    "    QUEUE_ARN = sqs.get_queue_attributes(\n",
    "        QueueUrl=QUEUE_URL,\n",
    "        AttributeNames=[\"QueueArn\"]\n",
    "    )[\"Attributes\"][\"QueueArn\"]\n",
    "    print(\"SQS ready\")\n",
    "    print(\"Queue URL:\")\n",
    "    print(\"Queue ARN:\")\n",
    "except ClientError as e:\n",
    "    print(\"Failed to resolve existing queue:\", e)"
   ]
  },
  {
   "cell_type": "code",
   "execution_count": 6,
   "id": "713eca2e",
   "metadata": {
    "execution": {
     "iopub.execute_input": "2025-08-13T22:39:41.865155Z",
     "iopub.status.busy": "2025-08-13T22:39:41.864859Z",
     "iopub.status.idle": "2025-08-13T22:39:42.494501Z",
     "shell.execute_reply": "2025-08-13T22:39:42.493479Z"
    },
    "papermill": {
     "duration": 0.635068,
     "end_time": "2025-08-13T22:39:42.495867",
     "exception": false,
     "start_time": "2025-08-13T22:39:41.860799",
     "status": "completed"
    },
    "tags": []
   },
   "outputs": [
    {
     "name": "stdout",
     "output_type": "stream",
     "text": [
      "Status: 200\n"
     ]
    }
   ],
   "source": [
    "from botocore.config import Config\n",
    "\n",
    "# CONFIG:\n",
    "AWS_REGION = os.getenv(\"AWS_REGION\", \"us-east-1\")\n",
    "INGEST_LAMBDA = os.getenv(\"INGEST_LAMBDA\", \"RearcBLSLambda\")  # your new ingest function\n",
    "\n",
    "# boto3 client with sensible timeouts/retries\n",
    "lam = boto3.client(\n",
    "    \"lambda\",\n",
    "    region_name=AWS_REGION,\n",
    "    config=Config(connect_timeout=3, read_timeout=10, retries={\"max_attempts\": 2})\n",
    ")\n",
    "\n",
    "# INVOKE:\n",
    "resp = lam.invoke(\n",
    "    FunctionName=INGEST_LAMBDA,\n",
    "    InvocationType=\"RequestResponse\",\n",
    "    Payload=json.dumps({}).encode(\"utf-8\")  # send an empty JSON payload\n",
    ")\n",
    "\n",
    "status = resp.get(\"StatusCode\")\n",
    "print(\"Status:\", status)"
   ]
  },
  {
   "cell_type": "code",
   "execution_count": 7,
   "id": "8ab5608f",
   "metadata": {
    "execution": {
     "iopub.execute_input": "2025-08-13T22:39:42.504142Z",
     "iopub.status.busy": "2025-08-13T22:39:42.503410Z",
     "iopub.status.idle": "2025-08-13T22:39:42.510245Z",
     "shell.execute_reply": "2025-08-13T22:39:42.509369Z"
    },
    "papermill": {
     "duration": 0.012335,
     "end_time": "2025-08-13T22:39:42.511554",
     "exception": false,
     "start_time": "2025-08-13T22:39:42.499219",
     "status": "completed"
    },
    "tags": []
   },
   "outputs": [
    {
     "name": "stdout",
     "output_type": "stream",
     "text": [
      "Payload: {\n",
      "  \"statusCode\": 200,\n",
      "  \"body\": \"upload complete\"\n",
      "}\n",
      "Success:  200\n"
     ]
    }
   ],
   "source": [
    "# Show function errors if any\n",
    "err = resp.get(\"FunctionError\")\n",
    "if err:\n",
    "    print(\"FunctionError:\", resp[\"FunctionError\"])\n",
    "\n",
    "# Response payload\n",
    "raw = resp[\"Payload\"].read()\n",
    "if raw:\n",
    "    try:\n",
    "        payload = json.loads(raw)\n",
    "        # Try parsing \"body\" as JSON text.\n",
    "        if isinstance(payload.get(\"body\"), str):\n",
    "            try:\n",
    "                payload[\"body\"] = json.loads(payload[\"body\"])\n",
    "            except Exception:\n",
    "                pass\n",
    "        print(\"Payload:\", json.dumps(payload, indent=2)[:2000])\n",
    "    except Exception:\n",
    "        print(\"Payload (raw):\", raw[:2000])\n",
    "\n",
    "# Status Code:\n",
    "if status == 200 and not err:\n",
    "    print(\"Success: \", status)\n",
    "else:\n",
    "    print(\"Issue\", status, err or \"\")"
   ]
  },
  {
   "cell_type": "code",
   "execution_count": 8,
   "id": "b17875b1",
   "metadata": {
    "execution": {
     "iopub.execute_input": "2025-08-13T22:39:42.519956Z",
     "iopub.status.busy": "2025-08-13T22:39:42.519626Z",
     "iopub.status.idle": "2025-08-13T22:39:42.738986Z",
     "shell.execute_reply": "2025-08-13T22:39:42.737445Z"
    },
    "papermill": {
     "duration": 0.225295,
     "end_time": "2025-08-13T22:39:42.740674",
     "exception": false,
     "start_time": "2025-08-13T22:39:42.515379",
     "status": "completed"
    },
    "tags": []
   },
   "outputs": [
    {
     "name": "stdout",
     "output_type": "stream",
     "text": [
      "Payload\n",
      "{\n",
      "  \"statusCode\": 200,\n",
      "  \"body\": \"upload complete\"\n",
      "}\n",
      "Result. Status = 200\n"
     ]
    }
   ],
   "source": [
    "import json, base64\n",
    "resp = lam.invoke(\n",
    "    FunctionName=INGEST_LAMBDA,  # your Lambda name\n",
    "    InvocationType=\"RequestResponse\"\n",
    ")\n",
    "status = resp.get(\"StatusCode\")\n",
    "err = resp.get(\"FunctionError\")\n",
    "\n",
    "# Read the payload ONCE\n",
    "raw_payload = resp[\"Payload\"].read()\n",
    "\n",
    "# Decode Lambda logs if they exist\n",
    "if \"LogResult\" in resp:\n",
    "    print(\"Lambda Logs\")\n",
    "    print(base64.b64decode(resp[\"LogResult\"]).decode(\"utf-8\", \"ignore\"))\n",
    "\n",
    "# Decode \n",
    "if raw_payload:\n",
    "    try:\n",
    "        payload_json = json.loads(raw_payload.decode(\"utf-8\"))\n",
    "        print(\"Payload\")\n",
    "        print(json.dumps(payload_json, indent=2))\n",
    "    except Exception:\n",
    "        print(\"Payload (raw)\")\n",
    "        print(raw_payload.decode(\"utf-8\", \"ignore\"))\n",
    "else:\n",
    "    print(\"Payload is empty\")\n",
    "\n",
    "if status == 200:\n",
    "    print(\"Result. Status = 200\")\n",
    "else:\n",
    "    print(\"Error: \", err)"
   ]
  },
  {
   "cell_type": "code",
   "execution_count": 9,
   "id": "93f2b9d6",
   "metadata": {
    "execution": {
     "iopub.execute_input": "2025-08-13T22:39:42.749640Z",
     "iopub.status.busy": "2025-08-13T22:39:42.749307Z",
     "iopub.status.idle": "2025-08-13T22:39:42.829434Z",
     "shell.execute_reply": "2025-08-13T22:39:42.828303Z"
    },
    "papermill": {
     "duration": 0.086115,
     "end_time": "2025-08-13T22:39:42.830919",
     "exception": false,
     "start_time": "2025-08-13T22:39:42.744804",
     "status": "completed"
    },
    "tags": []
   },
   "outputs": [
    {
     "name": "stdout",
     "output_type": "stream",
     "text": [
      "{'status': 200, 'key_count': 0, 'truncated': False}\n"
     ]
    }
   ],
   "source": [
    "resp = s3.list_objects_v2(Bucket=BUCKET_NAME, Prefix=\"raw/\")\n",
    "\n",
    "summary = {\n",
    "    \"status\": resp[\"ResponseMetadata\"][\"HTTPStatusCode\"],\n",
    "    \"key_count\": resp.get(\"KeyCount\", 0),\n",
    "    \"truncated\": bool(resp.get(\"IsTruncated\")),\n",
    "}\n",
    "print(summary)"
   ]
  },
  {
   "cell_type": "code",
   "execution_count": 10,
   "id": "d2fb22cb",
   "metadata": {
    "execution": {
     "iopub.execute_input": "2025-08-13T22:39:42.839365Z",
     "iopub.status.busy": "2025-08-13T22:39:42.839007Z",
     "iopub.status.idle": "2025-08-13T22:39:42.917395Z",
     "shell.execute_reply": "2025-08-13T22:39:42.916460Z"
    },
    "papermill": {
     "duration": 0.084583,
     "end_time": "2025-08-13T22:39:42.919187",
     "exception": false,
     "start_time": "2025-08-13T22:39:42.834604",
     "status": "completed"
    },
    "tags": []
   },
   "outputs": [
    {
     "name": "stdout",
     "output_type": "stream",
     "text": [
      "Done\n"
     ]
    }
   ],
   "source": [
    "resp = s3.list_objects_v2(Bucket=BUCKET_NAME, Prefix=\"raw/\")\n",
    "for obj in resp.get(\"Contents\", []):\n",
    "    print(obj[\"Key\"], obj[\"LastModified\"])\n",
    "print(\"Done\")"
   ]
  },
  {
   "cell_type": "code",
   "execution_count": 11,
   "id": "ce13f00a",
   "metadata": {
    "execution": {
     "iopub.execute_input": "2025-08-13T22:39:42.928102Z",
     "iopub.status.busy": "2025-08-13T22:39:42.927150Z",
     "iopub.status.idle": "2025-08-13T22:39:42.932715Z",
     "shell.execute_reply": "2025-08-13T22:39:42.931838Z"
    },
    "papermill": {
     "duration": 0.011658,
     "end_time": "2025-08-13T22:39:42.934449",
     "exception": false,
     "start_time": "2025-08-13T22:39:42.922791",
     "status": "completed"
    },
    "tags": []
   },
   "outputs": [
    {
     "name": "stdout",
     "output_type": "stream",
     "text": [
      "4.98  seconds\n"
     ]
    }
   ],
   "source": [
    "end = time.time()\n",
    "print(round(end - start, 2), \" seconds\")"
   ]
  },
  {
   "cell_type": "markdown",
   "id": "3719735e",
   "metadata": {
    "papermill": {
     "duration": 0.003183,
     "end_time": "2025-08-13T22:39:42.941253",
     "exception": false,
     "start_time": "2025-08-13T22:39:42.938070",
     "status": "completed"
    },
    "tags": []
   },
   "source": [
    "### Conclusion\n",
    "That wraps up Part 4 Python version – Infrastructure as Code & the automated pipeline.\n",
    "[View GitHub Repository with All Parts](https://github.com/ScottySchmidt/AWS_DataEngineer_API)"
   ]
  }
 ],
 "metadata": {
  "kaggle": {
   "accelerator": "none",
   "dataSources": [],
   "dockerImageVersionId": 31089,
   "isGpuEnabled": false,
   "isInternetEnabled": true,
   "language": "python",
   "sourceType": "notebook"
  },
  "kernelspec": {
   "display_name": "Python 3",
   "language": "python",
   "name": "python3"
  },
  "language_info": {
   "codemirror_mode": {
    "name": "ipython",
    "version": 3
   },
   "file_extension": ".py",
   "mimetype": "text/x-python",
   "name": "python",
   "nbconvert_exporter": "python",
   "pygments_lexer": "ipython3",
   "version": "3.11.13"
  },
  "papermill": {
   "default_parameters": {},
   "duration": 11.377553,
   "end_time": "2025-08-13T22:39:43.565281",
   "environment_variables": {},
   "exception": null,
   "input_path": "__notebook__.ipynb",
   "output_path": "__notebook__.ipynb",
   "parameters": {},
   "start_time": "2025-08-13T22:39:32.187728",
   "version": "2.6.0"
  }
 },
 "nbformat": 4,
 "nbformat_minor": 5
}
