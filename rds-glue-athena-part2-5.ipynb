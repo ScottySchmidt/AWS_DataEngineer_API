{
 "cells": [
  {
   "cell_type": "markdown",
   "id": "99bdc902",
   "metadata": {
    "papermill": {
     "duration": 0.002228,
     "end_time": "2025-08-11T02:04:37.566898",
     "exception": false,
     "start_time": "2025-08-11T02:04:37.564670",
     "status": "completed"
    },
    "tags": []
   },
   "source": [
    "# AWS Data Pipeline – Part 2.5: RDS + Glue + Athena\n",
    "This notebook extends Part 2of the AWS Data Engineering pipeline by taking the raw population dataset from S3 and preparing it for **structured analytics** in both Amazon RDS and Amazon Athena.\n",
    "\n",
    "## Objectives\n",
    "- **Catalog** the population dataset in AWS Glue for schema discovery and queryability.\n",
    "- **Transform** the raw JSON into a clean, partitioned Parquet format using AWS Glue ETL (PySpark).\n",
    "- **Load** the transformed dataset into:\n",
    "  - **Amazon RDS (PostgreSQL)** for low-latency relational queries.\n",
    "  - **Amazon Athena** for serverless querying of the Parquet data stored in S3.\n",
    "- Demonstrate **sample SQL queries** from both RDS and Athena.\n",
    "\n",
    "## Prerequisites\n",
    "- Existing Part * ingestion pipeline completed and data stored in S3.\n",
    "- AWS Glue, RDS, and Athena access configured in your AWS account.\n",
    "- IAM role permissions for Glue ETL to read/write S3 and connect to RDS.\n",
    "- AWS CLI or Console access for Glue crawler/job setup and RDS provisioning.\n",
    "\n",
    "---"
   ]
  },
  {
   "cell_type": "code",
   "execution_count": null,
   "id": "c034ad29",
   "metadata": {
    "papermill": {
     "duration": 0.001207,
     "end_time": "2025-08-11T02:04:37.570116",
     "exception": false,
     "start_time": "2025-08-11T02:04:37.568909",
     "status": "completed"
    },
    "tags": []
   },
   "outputs": [],
   "source": []
  },
  {
   "cell_type": "markdown",
   "id": "782995be",
   "metadata": {
    "papermill": {
     "duration": 0.001377,
     "end_time": "2025-08-11T02:04:37.572937",
     "exception": false,
     "start_time": "2025-08-11T02:04:37.571560",
     "status": "completed"
    },
    "tags": []
   },
   "source": []
  }
 ],
 "metadata": {
  "kaggle": {
   "accelerator": "none",
   "dataSources": [],
   "dockerImageVersionId": 31089,
   "isGpuEnabled": false,
   "isInternetEnabled": true,
   "language": "python",
   "sourceType": "notebook"
  },
  "kernelspec": {
   "display_name": "Python 3",
   "language": "python",
   "name": "python3"
  },
  "language_info": {
   "codemirror_mode": {
    "name": "ipython",
    "version": 3
   },
   "file_extension": ".py",
   "mimetype": "text/x-python",
   "name": "python",
   "nbconvert_exporter": "python",
   "pygments_lexer": "ipython3",
   "version": "3.11.13"
  },
  "papermill": {
   "default_parameters": {},
   "duration": 5.929488,
   "end_time": "2025-08-11T02:04:38.196372",
   "environment_variables": {},
   "exception": null,
   "input_path": "__notebook__.ipynb",
   "output_path": "__notebook__.ipynb",
   "parameters": {},
   "start_time": "2025-08-11T02:04:32.266884",
   "version": "2.6.0"
  }
 },
 "nbformat": 4,
 "nbformat_minor": 5
}
